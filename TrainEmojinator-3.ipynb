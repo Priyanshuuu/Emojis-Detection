{
 "cells": [
  {
   "cell_type": "code",
   "execution_count": 1,
   "metadata": {},
   "outputs": [
    {
     "name": "stderr",
     "output_type": "stream",
     "text": [
      "Using TensorFlow backend.\n"
     ]
    }
   ],
   "source": [
    "import numpy as np\n",
    "from keras import layers\n",
    "from keras.layers import Input, Dense, Activation, ZeroPadding2D, BatchNormalization, Flatten, Conv2D\n",
    "from keras.layers import AveragePooling2D, MaxPooling2D, Dropout, GlobalMaxPooling2D, GlobalAveragePooling2D\n",
    "from keras.utils import np_utils\n",
    "from keras.models import Sequential\n",
    "from keras.callbacks import ModelCheckpoint\n",
    "import pandas as pd\n",
    "\n",
    "import keras.backend as K"
   ]
  },
  {
   "cell_type": "code",
   "execution_count": 2,
   "metadata": {},
   "outputs": [],
   "source": [
    "def keras_model(image_x, image_y):\n",
    "    num_of_classes = 15\n",
    "    model = Sequential()\n",
    "    model.add(Conv2D(32, (5, 5), input_shape=(image_x, image_y, 1), activation='relu'))\n",
    "    model.add(MaxPooling2D(pool_size=(2, 2), strides=(2, 2), padding='same'))\n",
    "    model.add(Conv2D(64, (5, 5), activation='sigmoid'))\n",
    "    model.add(MaxPooling2D(pool_size=(5, 5), strides=(5, 5), padding='same'))\n",
    "    model.add(Flatten())\n",
    "    model.add(Dense(1024, activation='relu'))\n",
    "    model.add(Dropout(0.6))\n",
    "    model.add(Dense(num_of_classes, activation='softmax'))\n",
    "\n",
    "    model.compile(loss='categorical_crossentropy', optimizer='adam', metrics=['accuracy'])\n",
    "    filepath = \"emojinator.h5\"\n",
    "    checkpoint1 = ModelCheckpoint(filepath, monitor='val_acc', verbose=1, save_best_only=True, mode='max')\n",
    "    callbacks_list = [checkpoint1]\n",
    "\n",
    "    return model, callbacks_list"
   ]
  },
  {
   "cell_type": "code",
   "execution_count": 3,
   "metadata": {},
   "outputs": [],
   "source": [
    "def main():\n",
    "    data = pd.read_csv(\"train_foo.csv\")\n",
    "    dataset = np.array(data)\n",
    "    np.random.shuffle(dataset)\n",
    "    print(dataset.shape)\n",
    "    X = dataset\n",
    "    Y = dataset\n",
    "    X = X[:, 1:2501]\n",
    "    Y = Y[:, 0]\n",
    "\n",
    "    X_train = X[0:840, :]\n",
    "    X_train = X_train / 255.\n",
    "    X_test = X[840:1200, :]\n",
    "    X_test = X_test / 255.\n",
    "\n",
    "    # Reshape\n",
    "    Y = Y.reshape(Y.shape[0], 1)\n",
    "    Y_train = Y[0:840, :]\n",
    "    Y_train = Y_train.T\n",
    "    Y_test = Y[840:1200, :]\n",
    "    Y_test = Y_test.T\n",
    "\n",
    "    print(\"number of training examples = \" + str(X_train.shape[0]))\n",
    "    print(\"number of test examples = \" + str(X_test.shape[0]))\n",
    "    print(\"X_train shape: \" + str(X_train.shape))\n",
    "    print(\"Y_train shape: \" + str(Y_train.shape))\n",
    "    print(\"X_test shape: \" + str(X_test.shape))\n",
    "    print(\"Y_test shape: \" + str(Y_test.shape))\n",
    "    image_x = 50\n",
    "    image_y = 50\n",
    "\n",
    "    train_y = np_utils.to_categorical(Y_train)\n",
    "    test_y = np_utils.to_categorical(Y_test)\n",
    "    train_y = train_y.reshape(train_y.shape[1], train_y.shape[2])\n",
    "    test_y = test_y.reshape(test_y.shape[1], test_y.shape[2])\n",
    "    X_train = X_train.reshape(X_train.shape[0], 50, 50, 1)\n",
    "    X_test = X_test.reshape(X_test.shape[0], 50, 50, 1)\n",
    "    print(\"X_train shape: \" + str(X_train.shape))\n",
    "    print(\"X_test shape: \" + str(X_test.shape))\n",
    "\n",
    "    model, callbacks_list = keras_model(image_x, image_y)\n",
    "    model.fit(X_train, train_y, validation_data=(X_test, test_y), epochs=10, batch_size=64,\n",
    "              callbacks=callbacks_list)\n",
    "    scores = model.evaluate(X_test, test_y, verbose=0)\n",
    "    print(\"CNN Error: %.2f%%\" % (100 - scores[1] * 100))\n",
    "\n",
    "    model.save('emojinator.h5')\n",
    "\n"
   ]
  },
  {
   "cell_type": "code",
   "execution_count": 4,
   "metadata": {},
   "outputs": [
    {
     "name": "stdout",
     "output_type": "stream",
     "text": [
      "(5675, 2501)\n",
      "number of training examples = 840\n",
      "number of test examples = 360\n",
      "X_train shape: (840, 2500)\n",
      "Y_train shape: (1, 840)\n",
      "X_test shape: (360, 2500)\n",
      "Y_test shape: (1, 360)\n",
      "X_train shape: (840, 50, 50, 1)\n",
      "X_test shape: (360, 50, 50, 1)\n",
      "WARNING:tensorflow:From /home/prachi/anaconda3/lib/python3.7/site-packages/tensorflow/python/framework/op_def_library.py:263: colocate_with (from tensorflow.python.framework.ops) is deprecated and will be removed in a future version.\n",
      "Instructions for updating:\n",
      "Colocations handled automatically by placer.\n",
      "WARNING:tensorflow:From /home/prachi/anaconda3/lib/python3.7/site-packages/keras/backend/tensorflow_backend.py:3445: calling dropout (from tensorflow.python.ops.nn_ops) with keep_prob is deprecated and will be removed in a future version.\n",
      "Instructions for updating:\n",
      "Please use `rate` instead of `keep_prob`. Rate should be set to `rate = 1 - keep_prob`.\n",
      "WARNING:tensorflow:From /home/prachi/anaconda3/lib/python3.7/site-packages/tensorflow/python/ops/math_ops.py:3066: to_int32 (from tensorflow.python.ops.math_ops) is deprecated and will be removed in a future version.\n",
      "Instructions for updating:\n",
      "Use tf.cast instead.\n",
      "Train on 840 samples, validate on 360 samples\n",
      "Epoch 1/10\n",
      "840/840 [==============================] - 5s 6ms/step - loss: 1.0999 - acc: 0.4976 - val_loss: 0.5837 - val_acc: 0.5972\n",
      "\n",
      "Epoch 00001: val_acc improved from -inf to 0.59722, saving model to emojinator.h5\n",
      "Epoch 2/10\n",
      "840/840 [==============================] - 5s 5ms/step - loss: 0.5501 - acc: 0.7429 - val_loss: 0.3328 - val_acc: 0.8333\n",
      "\n",
      "Epoch 00002: val_acc improved from 0.59722 to 0.83333, saving model to emojinator.h5\n",
      "Epoch 3/10\n",
      "840/840 [==============================] - 4s 5ms/step - loss: 0.2805 - acc: 0.8857 - val_loss: 0.1759 - val_acc: 0.9222\n",
      "\n",
      "Epoch 00003: val_acc improved from 0.83333 to 0.92222, saving model to emojinator.h5\n",
      "Epoch 4/10\n",
      "840/840 [==============================] - 4s 5ms/step - loss: 0.1791 - acc: 0.9214 - val_loss: 0.1270 - val_acc: 0.9556\n",
      "\n",
      "Epoch 00004: val_acc improved from 0.92222 to 0.95556, saving model to emojinator.h5\n",
      "Epoch 5/10\n",
      "840/840 [==============================] - 4s 5ms/step - loss: 0.1091 - acc: 0.9655 - val_loss: 0.0864 - val_acc: 0.9750\n",
      "\n",
      "Epoch 00005: val_acc improved from 0.95556 to 0.97500, saving model to emojinator.h5\n",
      "Epoch 6/10\n",
      "840/840 [==============================] - 4s 4ms/step - loss: 0.0727 - acc: 0.9774 - val_loss: 0.0584 - val_acc: 0.9833\n",
      "\n",
      "Epoch 00006: val_acc improved from 0.97500 to 0.98333, saving model to emojinator.h5\n",
      "Epoch 7/10\n",
      "840/840 [==============================] - 4s 4ms/step - loss: 0.0542 - acc: 0.9821 - val_loss: 0.1011 - val_acc: 0.9639\n",
      "\n",
      "Epoch 00007: val_acc did not improve from 0.98333\n",
      "Epoch 8/10\n",
      "840/840 [==============================] - 4s 5ms/step - loss: 0.0442 - acc: 0.9786 - val_loss: 0.0358 - val_acc: 0.9889\n",
      "\n",
      "Epoch 00008: val_acc improved from 0.98333 to 0.98889, saving model to emojinator.h5\n",
      "Epoch 9/10\n",
      "840/840 [==============================] - 4s 4ms/step - loss: 0.0424 - acc: 0.9833 - val_loss: 0.0267 - val_acc: 0.9944\n",
      "\n",
      "Epoch 00009: val_acc improved from 0.98889 to 0.99444, saving model to emojinator.h5\n",
      "Epoch 10/10\n",
      "840/840 [==============================] - 4s 4ms/step - loss: 0.0284 - acc: 0.9917 - val_loss: 0.0258 - val_acc: 0.9917\n",
      "\n",
      "Epoch 00010: val_acc did not improve from 0.99444\n",
      "CNN Error: 0.83%\n"
     ]
    }
   ],
   "source": [
    "main()"
   ]
  },
  {
   "cell_type": "code",
   "execution_count": null,
   "metadata": {},
   "outputs": [],
   "source": []
  }
 ],
 "metadata": {
  "kernelspec": {
   "display_name": "Python 3",
   "language": "python",
   "name": "python3"
  },
  "language_info": {
   "codemirror_mode": {
    "name": "ipython",
    "version": 3
   },
   "file_extension": ".py",
   "mimetype": "text/x-python",
   "name": "python",
   "nbconvert_exporter": "python",
   "pygments_lexer": "ipython3",
   "version": "3.7.3"
  }
 },
 "nbformat": 4,
 "nbformat_minor": 2
}
